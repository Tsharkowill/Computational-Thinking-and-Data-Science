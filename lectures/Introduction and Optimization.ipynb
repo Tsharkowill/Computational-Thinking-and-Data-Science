{
 "cells": [
  {
   "cell_type": "markdown",
   "id": "8cee5257-7c07-4541-9d8d-9dbe6a6016c3",
   "metadata": {},
   "source": [
    "Three main type of computational models, Optimization, Statistical and Simulation based models."
   ]
  },
  {
   "cell_type": "markdown",
   "id": "01ad1564-4b7c-44db-866a-59f248e6acc8",
   "metadata": {},
   "source": [
    "### Optimization models:\n",
    "Optimize for the best solution by maximizing or minimizing an objective function\n",
    "\n",
    "They're useful for tasks such as allocating resources. scheduling tasks, routing, portfolio optimization, etc"
   ]
  },
  {
   "cell_type": "code",
   "execution_count": 1,
   "id": "7a4b87cd-56de-449b-be0b-decf2048c941",
   "metadata": {},
   "outputs": [],
   "source": [
    "class Food(object):\n",
    "    def __init__(self, n, v, w):\n",
    "        self.name = n\n",
    "        self.value = v\n",
    "        self.calories = w\n",
    "    def getValue(self):\n",
    "        return self.value\n",
    "    def getCost(self):\n",
    "        return self.calories\n",
    "    def density(self):\n",
    "        return self.getValue()/self.getCost()\n",
    "    def __str__(self):\n",
    "        return self.name + ': <' + str(self.value)\\\n",
    "                 + ', ' + str(self.calories) + '>'"
   ]
  },
  {
   "cell_type": "code",
   "execution_count": 2,
   "id": "458ec7c2-f7ad-4f91-ace8-2e81de70c7ab",
   "metadata": {},
   "outputs": [],
   "source": [
    "def buildMenu(names, values, calories):\n",
    "    \"\"\"names, values, calories lists of same length.\n",
    "       name a list of strings\n",
    "       values and calories lists of numbers\n",
    "       returns list of Foods\"\"\"\n",
    "    menu = []\n",
    "    for i in range(len(values)):\n",
    "        menu.append(Food(names[i], values[i],\n",
    "                          calories[i]))\n",
    "    return menu"
   ]
  },
  {
   "cell_type": "markdown",
   "id": "261b6f59",
   "metadata": {},
   "source": [
    "### Complexity of a greedy algorithm is O(n log n)\n",
    "We will cover the rest of the big O notation and how it relates to producing the power set in the next lecture."
   ]
  },
  {
   "cell_type": "code",
   "execution_count": 3,
   "id": "1e1c2996-071e-423a-8363-d9b89f2e0fcd",
   "metadata": {},
   "outputs": [],
   "source": [
    "def greedy(items, maxCost, keyFunction):\n",
    "    \"\"\"Assumes items a list, maxCost >= 0,\n",
    "         keyFunction maps elements of items to numbers\"\"\"\n",
    "    itemsCopy = sorted(items, key = keyFunction,\n",
    "                       reverse = True)\n",
    "    result = []\n",
    "    totalValue, totalCost = 0.0, 0.0\n",
    "    for i in range(len(itemsCopy)):\n",
    "        if (totalCost+itemsCopy[i].getCost()) <= maxCost:\n",
    "            result.append(itemsCopy[i])\n",
    "            totalCost += itemsCopy[i].getCost()\n",
    "            totalValue += itemsCopy[i].getValue()\n",
    "    return (result, totalValue)"
   ]
  },
  {
   "cell_type": "code",
   "execution_count": 4,
   "id": "a5380a2c-4852-4de9-8ab9-8ab6adeb2c97",
   "metadata": {},
   "outputs": [],
   "source": [
    "def testGreedy(items, constraint, keyFunction):\n",
    "    taken, val = greedy(items, constraint, keyFunction)\n",
    "    print('Total value of items taken =', val)\n",
    "    for item in taken:\n",
    "        print('   ', item)"
   ]
  },
  {
   "cell_type": "code",
   "execution_count": 5,
   "id": "b8cda47a-bf45-4614-b6d6-0e694b77b0fb",
   "metadata": {},
   "outputs": [],
   "source": [
    "def testGreedys(foods, maxUnits):\n",
    "    print('Use greedy by value to allocate', maxUnits,\n",
    "          'calories')\n",
    "    testGreedy(foods, maxUnits, Food.getValue)\n",
    "    print('\\nUse greedy by cost to allocate', maxUnits,\n",
    "          'calories')\n",
    "    testGreedy(foods, maxUnits,\n",
    "               lambda x: 1/Food.getCost(x))\n",
    "    print('\\nUse greedy by density to allocate', maxUnits,\n",
    "          'calories')\n",
    "    testGreedy(foods, maxUnits, Food.density)"
   ]
  },
  {
   "cell_type": "code",
   "execution_count": 6,
   "id": "8a07da3d-b321-40e4-b5e8-9e1cdb337639",
   "metadata": {},
   "outputs": [
    {
     "name": "stdout",
     "output_type": "stream",
     "text": [
      "Use greedy by value to allocate 1000 calories\n",
      "Total value of items taken = 424.0\n",
      "    burger: <100, 354>\n",
      "    pizza: <95, 258>\n",
      "    beer: <90, 154>\n",
      "    wine: <89, 123>\n",
      "    apple: <50, 95>\n",
      "\n",
      "Use greedy by cost to allocate 1000 calories\n",
      "Total value of items taken = 413.0\n",
      "    apple: <50, 95>\n",
      "    wine: <89, 123>\n",
      "    cola: <79, 150>\n",
      "    beer: <90, 154>\n",
      "    donut: <10, 195>\n",
      "    pizza: <95, 258>\n",
      "\n",
      "Use greedy by density to allocate 1000 calories\n",
      "Total value of items taken = 413.0\n",
      "    wine: <89, 123>\n",
      "    beer: <90, 154>\n",
      "    cola: <79, 150>\n",
      "    apple: <50, 95>\n",
      "    pizza: <95, 258>\n",
      "    donut: <10, 195>\n"
     ]
    }
   ],
   "source": [
    "names = ['wine', 'beer', 'pizza', 'burger', 'fries',\n",
    "         'cola', 'apple', 'donut', 'cake']\n",
    "values = [89,90,95,100,90,79,50,10]\n",
    "calories = [123,154,258,354,365,150,95,195]\n",
    "foods = buildMenu(names, values, calories)\n",
    "testGreedys(foods, 1000)"
   ]
  },
  {
   "cell_type": "code",
   "execution_count": null,
   "id": "91bab392-c5c5-47df-b11f-9f95ec0fd082",
   "metadata": {},
   "outputs": [],
   "source": []
  }
 ],
 "metadata": {
  "kernelspec": {
   "display_name": "Python 3 (ipykernel)",
   "language": "python",
   "name": "python3"
  },
  "language_info": {
   "codemirror_mode": {
    "name": "ipython",
    "version": 3
   },
   "file_extension": ".py",
   "mimetype": "text/x-python",
   "name": "python",
   "nbconvert_exporter": "python",
   "pygments_lexer": "ipython3",
   "version": "3.9.13"
  }
 },
 "nbformat": 4,
 "nbformat_minor": 5
}
